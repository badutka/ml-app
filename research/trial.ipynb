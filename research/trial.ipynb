{
 "cells": [
  {
   "cell_type": "code",
   "execution_count": 3,
   "metadata": {},
   "outputs": [
    {
     "data": {
      "text/plain": [
       "'d:\\\\PycharmProjects\\\\ml-app'"
      ]
     },
     "execution_count": 3,
     "metadata": {},
     "output_type": "execute_result"
    }
   ],
   "source": [
    "%pwd"
   ]
  },
  {
   "cell_type": "code",
   "execution_count": 2,
   "metadata": {},
   "outputs": [],
   "source": [
    "import os\n",
    "os.chdir(\"..\")"
   ]
  },
  {
   "cell_type": "code",
   "execution_count": 4,
   "metadata": {},
   "outputs": [
    {
     "name": "stderr",
     "output_type": "stream",
     "text": [
      "\u001b[32m2023-11-04 23:29:43\u001b[0m \u001b[35mDESKTOP-PEC6JQ0\u001b[0m \u001b[34m11_04_2023_23_29_43.log[21676]\u001b[0m \u001b[1;30mINFO\u001b[0m \u001b[32mLogging initialized.\u001b[0m\n",
      "\u001b[32m2023-11-04 23:29:43\u001b[0m \u001b[35mDESKTOP-PEC6JQ0\u001b[0m \u001b[34m11_04_2023_23_29_43.log[21676]\u001b[0m \u001b[1;30mINFO\u001b[0m \u001b[32myaml file: d:\\PycharmProjects\\ml-app\\src\\mlengine\\config\\settings.yaml loaded successfully\u001b[0m\n"
     ]
    }
   ],
   "source": [
    "from box import ConfigBox\n",
    "import os\n",
    "import urllib.request as request\n",
    "import zipfile\n",
    "from mlengine.config.settings import settings\n",
    "from mlengine.common.logger import logger"
   ]
  },
  {
   "cell_type": "code",
   "execution_count": 5,
   "metadata": {},
   "outputs": [],
   "source": [
    "class DataIngestion:\n",
    "    def __init__(self, config: ConfigBox):\n",
    "        self.config = config\n",
    "\n",
    "    def download_file(self):\n",
    "        if not os.path.exists(self.config.local_data_file):\n",
    "            filename, headers = request.urlretrieve(\n",
    "                url=self.config.source_URL,\n",
    "                filename=self.config.local_data_file\n",
    "            )\n",
    "            logger.info(f\"{filename} downloaded. Headers: \\n{headers}\")\n",
    "        else:\n",
    "            logger.info(f\"File already exists\")\n",
    "\n",
    "    def extract_zip_file(self):\n",
    "        \"\"\"\n",
    "        zip_file_path: str\n",
    "        Extracts the zip file into the data directory\n",
    "        Function returns None\n",
    "        \"\"\"\n",
    "        unzip_path = self.config.unzip_dir\n",
    "        os.makedirs(unzip_path, exist_ok=True)\n",
    "        with zipfile.ZipFile(self.config.local_data_file, 'r') as zip_ref:\n",
    "            zip_ref.extractall(unzip_path)"
   ]
  },
  {
   "cell_type": "code",
   "execution_count": 6,
   "metadata": {},
   "outputs": [
    {
     "name": "stderr",
     "output_type": "stream",
     "text": [
      "\u001b[32m2023-11-04 23:29:46\u001b[0m \u001b[35mDESKTOP-PEC6JQ0\u001b[0m \u001b[34m11_04_2023_23_29_43.log[21676]\u001b[0m \u001b[1;30mINFO\u001b[0m \u001b[32martifacts/data/stud.zip downloaded. Headers: \n",
      "Connection: close\n",
      "Content-Length: 7788\n",
      "Cache-Control: max-age=300\n",
      "Content-Security-Policy: default-src 'none'; style-src 'unsafe-inline'; sandbox\n",
      "Content-Type: application/zip\n",
      "ETag: \"2854f12f7cb194a6a4adb1fe3c0d83e8b08ff4f8abcc1fae3527ae5f20935983\"\n",
      "Strict-Transport-Security: max-age=31536000\n",
      "X-Content-Type-Options: nosniff\n",
      "X-Frame-Options: deny\n",
      "X-XSS-Protection: 1; mode=block\n",
      "X-GitHub-Request-Id: 6376:2CF9:BD02AA:C6E4AF:6546C5DA\n",
      "Accept-Ranges: bytes\n",
      "Date: Sat, 04 Nov 2023 22:29:46 GMT\n",
      "Via: 1.1 varnish\n",
      "X-Served-By: cache-fra-eddf8230116-FRA\n",
      "X-Cache: MISS\n",
      "X-Cache-Hits: 0\n",
      "X-Timer: S1699136987.565035,VS0,VE159\n",
      "Vary: Authorization,Accept-Encoding,Origin\n",
      "Access-Control-Allow-Origin: *\n",
      "Cross-Origin-Resource-Policy: cross-origin\n",
      "X-Fastly-Request-ID: cd35aae60884c572486cd05d1c91a48fc5086ee8\n",
      "Expires: Sat, 04 Nov 2023 22:34:46 GMT\n",
      "Source-Age: 0\n",
      "\n",
      "\u001b[0m\n"
     ]
    }
   ],
   "source": [
    "try:\n",
    "    di_config = settings.data_ingestion\n",
    "    data_ingestion = DataIngestion(config=di_config)\n",
    "    data_ingestion.download_file()\n",
    "    data_ingestion.extract_zip_file()\n",
    "except Exception as e:\n",
    "    raise e"
   ]
  }
 ],
 "metadata": {
  "kernelspec": {
   "display_name": "venv",
   "language": "python",
   "name": "python3"
  },
  "language_info": {
   "codemirror_mode": {
    "name": "ipython",
    "version": 3
   },
   "file_extension": ".py",
   "mimetype": "text/x-python",
   "name": "python",
   "nbconvert_exporter": "python",
   "pygments_lexer": "ipython3",
   "version": "3.11.1"
  }
 },
 "nbformat": 4,
 "nbformat_minor": 2
}
